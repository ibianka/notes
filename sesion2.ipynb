{
 "cells": [
  {
   "cell_type": "markdown",
   "id": "a805fbd1-23df-4478-b1ca-66c44bdf35fc",
   "metadata": {},
   "source": [
    "# Sesion 2 : Celdas de Código\n",
    "   ## - Variables y Asignación\n",
    "   ## - Tipos de Datos y Conversión de tipos"
   ]
  },
  {
   "cell_type": "markdown",
   "id": "0e11e6d2-00eb-44fd-ad81-b50bdb197206",
   "metadata": {},
   "source": [
    "### Operadores Aritméticos"
   ]
  },
  {
   "cell_type": "code",
   "execution_count": null,
   "id": "292e450c-9a5b-4898-9958-2dea1ba4700b",
   "metadata": {},
   "outputs": [],
   "source": [
    "# + suma\n",
    "# - resta\n",
    "# * multiplicación\n",
    "# / división\n",
    "# // División entera\n",
    "# % resto\n",
    "# ** exponenciación"
   ]
  },
  {
   "cell_type": "code",
   "execution_count": null,
   "id": "826df32b-74e7-4ff9-997f-7d68168752fd",
   "metadata": {},
   "outputs": [],
   "source": [
    "# Escribe una función que imprima Hola Python! \n",
    "print(\"Hola Python\")"
   ]
  },
  {
   "cell_type": "code",
   "execution_count": null,
   "id": "eefd7788-3d0d-4bf8-aa9d-2374cd79d688",
   "metadata": {},
   "outputs": [],
   "source": [
    "# Ejercicio escribe una función que imprima \"Hola!\"\n"
   ]
  },
  {
   "cell_type": "code",
   "execution_count": null,
   "id": "1d97a580-c897-493e-9f80-93774c2a80f8",
   "metadata": {},
   "outputs": [],
   "source": [
    "# Escribiste tu primer código!\n",
    "print(\"escribiste tu primer código!\")"
   ]
  },
  {
   "cell_type": "markdown",
   "id": "d8d80325-5ac8-405e-9f4e-21e5ba325d33",
   "metadata": {},
   "source": [
    "El ejemplo \"Hola!\" tiene 3 componentes importantes: ***un comentario, la función print y una string o cadena de caracteres***, que mas adelante lo vamos a ver."
   ]
  },
  {
   "cell_type": "markdown",
   "id": "039d5240-5d76-4e89-a860-dcc5e236cedc",
   "metadata": {},
   "source": [
    "### **Comentarios**\n",
    "* Los comentarios nos ayudan a comunicar el propósito de nuestro código a nosotros mismos en un futuro y para otros usuarios.\n",
    "\n",
    "* Los comentarios no se ejecutarán ni se imprimirán para el usuario cuando se ejecute nuestro código.\n",
    "\n",
    "* Es una buena práctica agregar comentarios a lo largo de nuestro código. Usaremos comentarios a menudo en este workshop.\n",
    "\n",
    "* Los comentarios se pueden agregar antes, después o junto a nuestro código."
   ]
  },
  {
   "cell_type": "code",
   "execution_count": null,
   "id": "55e20880-e10f-4b21-aeb3-230e560076e5",
   "metadata": {},
   "outputs": [],
   "source": [
    "# Para escribir un comentario, se debe incluir una etiqueta hash o numeral(#) adelante de la frase.\n",
    "# asi de simple es.\n"
   ]
  },
  {
   "cell_type": "markdown",
   "id": "392c9dc0-cd07-4629-ade7-9cbfe84c664c",
   "metadata": {},
   "source": [
    "### **Función Print**"
   ]
  },
  {
   "cell_type": "markdown",
   "id": "702b6d4d-ac92-47e3-aa5d-ae9bb9303cda",
   "metadata": {},
   "source": [
    "* La función llamada **print** imprimirá o mostrará datos al usuario.\n",
    "* La función de impresión se escribe como print () con los datos colocados entre paréntesis.\n",
    "* Para procesar una cadena de caracteres o string a la salida, se debe escribir el mismo entre comillas simples o dobles.\n",
    "* Para procesar números no se necesita comillas.\n",
    "* Los valores pasados a la función se denominan argumentos\n",
    "\n"
   ]
  },
  {
   "cell_type": "code",
   "execution_count": null,
   "id": "af63a5b1-4d77-4638-964c-dab24d0f62c3",
   "metadata": {},
   "outputs": [],
   "source": [
    "# Imprime el número entero (integer) 8. \n"
   ]
  },
  {
   "cell_type": "code",
   "execution_count": null,
   "id": "07dd268c-f1a8-4991-8b6b-471093e34b2d",
   "metadata": {},
   "outputs": [],
   "source": [
    "# Imprime la string (cadena de caracteres) \"Buenas noches\"\n"
   ]
  },
  {
   "cell_type": "code",
   "execution_count": null,
   "id": "04edaa84-728e-40af-adda-da2666353868",
   "metadata": {},
   "outputs": [],
   "source": [
    "# Imprime el resultado de una suma matemática. 46+33-10\n"
   ]
  },
  {
   "cell_type": "markdown",
   "id": "5e8816aa-efe0-4ef1-ade5-0c7160efb4df",
   "metadata": {},
   "source": [
    "### **Strings o cadena de caracteres**"
   ]
  },
  {
   "cell_type": "markdown",
   "id": "65de24ff-cbfa-444c-bfbe-eb1742eb09e1",
   "metadata": {},
   "source": [
    "* Una cadena es una serie de caracteres, que pueden incluir letras, números y caracteres especiales como signos de exclamación.\n",
    "\n",
    "* Podemos utilizar los siguientes formatos para imprimir una string: 1) comillas simples (un apóstrofo), 2) comillas dobles o 3) comillas simples triples (tres apóstrofos).\n",
    "\n",
    "    - print('comillas simples')\n",
    "\n",
    "    - print(\"comillas dobles\")\n",
    "\n",
    "    - print('''comillas simples triples''')"
   ]
  },
  {
   "cell_type": "code",
   "execution_count": null,
   "id": "5635cd5f-d135-4270-867f-c6ebdb8ef0ce",
   "metadata": {},
   "outputs": [],
   "source": [
    "# Cuando ejecutamos el siguiente código, las siguientes funciones imprimirán el mismo resultado.\n",
    "print('Hello pythonistas!') \n",
    "print(\"Hello pythonistas!\") \n",
    "print('''Hello pythonistas!''')\n",
    "\n",
    "# Para trabajar con múltiples lineas a la vez.\n",
    "print('''\n",
    "Hello pythonistas1\n",
    "Hello pythonistas2\n",
    "''')"
   ]
  },
  {
   "cell_type": "code",
   "execution_count": null,
   "id": "dc8bfc3c-c339-435f-ab9e-11082df2e5fc",
   "metadata": {},
   "outputs": [],
   "source": [
    "# Imprime en los formatos aprendidos la string: python es genial\n"
   ]
  },
  {
   "cell_type": "code",
   "execution_count": null,
   "id": "7d51adc5-2b1a-4f02-a381-26924ab3ba8b",
   "metadata": {},
   "outputs": [],
   "source": [
    "# Multiplica una string por un número entero(integer).\n",
    "print(\"Hola\" * 3)"
   ]
  },
  {
   "cell_type": "code",
   "execution_count": null,
   "id": "224aec4f-40e2-4da3-bfc5-976efefd006a",
   "metadata": {},
   "outputs": [],
   "source": [
    "# multilica la string python por el número 20\n"
   ]
  },
  {
   "cell_type": "code",
   "execution_count": null,
   "id": "fa2fa0b2-8825-4a8a-9c4f-1201c5e63fc2",
   "metadata": {},
   "outputs": [],
   "source": [
    "# También podemos concatenar (unir) más de una string.\n",
    "# Usaremos la concatenación a menudo en sesiones futuras.\n",
    "\n",
    "print(\"a\" + \"b\" + \"c \")\n",
    "# Tenga en cuenta el espacio después de cada strig en este ejemplo es cómo se ejecuta el código."
   ]
  },
  {
   "cell_type": "code",
   "execution_count": null,
   "id": "e9182d86-a1eb-413e-85b0-6922729be475",
   "metadata": {},
   "outputs": [],
   "source": [
    "# Ejercicio: concatena hola, mucho gusto!\n",
    "print(\"Hola, \" + \"mucho gusto\" + \"!\")"
   ]
  },
  {
   "cell_type": "code",
   "execution_count": null,
   "id": "7021493e-229c-4043-82c2-aa44a75a5662",
   "metadata": {},
   "outputs": [],
   "source": [
    "# Se puede separar argumentos \n",
    "# print pone automáticamente un espacio simple entre los ítems para separarlos.\n",
    "print(\"Hola,\", \"a\" ,\"todos\", 4)"
   ]
  },
  {
   "cell_type": "markdown",
   "id": "c35b4427-7be7-4208-9dc6-0b6e5110b74d",
   "metadata": {},
   "source": [
    "## Usa la función incorporada *len* para encontrar la longitud de una string"
   ]
  },
  {
   "cell_type": "code",
   "execution_count": null,
   "id": "d23a1aff-83ee-421d-aa90-0547fa23530e",
   "metadata": {},
   "outputs": [],
   "source": [
    "# Verifique la longitud de los caracteres de una cadena usando la función len ().\n",
    "\n",
    "print(len('helium'))"
   ]
  },
  {
   "cell_type": "code",
   "execution_count": null,
   "id": "4e381132-1684-4966-9ff3-904eeb77a3ef",
   "metadata": {},
   "outputs": [],
   "source": [
    "# Encuentra la longitud de la string 'Open_Science_Labs'\n"
   ]
  },
  {
   "cell_type": "code",
   "execution_count": null,
   "id": "06075719-daa5-43c7-bb85-53c1bbeb0958",
   "metadata": {},
   "outputs": [],
   "source": [
    "# Las secuencias de caracteres tienen una longitud (pero los números no tienen).\n",
    "print(len(52))"
   ]
  },
  {
   "cell_type": "markdown",
   "id": "ce0282bb-16e0-4e71-b57e-2c28927e76f3",
   "metadata": {},
   "source": [
    "## Usa un índice para obtener un solo caracter de una string"
   ]
  },
  {
   "cell_type": "code",
   "execution_count": null,
   "id": "599730ce-efee-4d72-b7af-5eca06dbc5c1",
   "metadata": {},
   "outputs": [],
   "source": [
    "# Cada posición en la string recibe un número. A este número se le llama índice o,a veces, subíndice.\n",
    "# Los índices están numerados a partir del 0.\n",
    "# Ejemplo helium h=0, e=1, l=2, i=3, u=4, m=5)\n",
    "# Usa el índice de la posición entre corchetes para obtener el carácter en esa posición.\n",
    "\n",
    "print('helium'[2])"
   ]
  },
  {
   "cell_type": "markdown",
   "id": "9aa80874-93e1-42e3-b44a-c4e976318ae5",
   "metadata": {},
   "source": [
    "## Usa un corte para obtener una parte de una string"
   ]
  },
  {
   "cell_type": "code",
   "execution_count": null,
   "id": "8f3af50f-6212-45cd-9aa7-3c295eaba055",
   "metadata": {},
   "outputs": [],
   "source": [
    "# Tomamos un corte usando [inicio:fin], donde inicio es reemplazado por el índice del primer elemento que queremos \n",
    "# y fin es reemplazado por el índice del elemento justo después del último elemento que queremos.\n",
    "print(\"sodioum\"[0:4])\n",
    "print(\"sodioum\"[:2])\n",
    "print(\"sodioum\"[:])"
   ]
  },
  {
   "cell_type": "markdown",
   "id": "4863b485-e8e4-426e-876a-8691f9ccbff0",
   "metadata": {},
   "source": [
    "# **Variables**"
   ]
  },
  {
   "cell_type": "markdown",
   "id": "b44746c5-3647-478b-9d0f-d177d7d8e7f6",
   "metadata": {},
   "source": [
    "* Variables son nombres de valores, que almacenan nuestros datos.\n",
    "* La variable es creada en el momento que se le asigna un valor.\n",
    "* Cuando el código se ejecuta en una variable, Python recupera el valor asignado a la variable para la función que se está ejecutando.\n",
    "* En Python el símbolo = asigna el valor que se encuentra a la derecha al nombre que se encuentra a la izquierda."
   ]
  },
  {
   "cell_type": "code",
   "execution_count": null,
   "id": "fff8dfbd-7f48-4bbc-8be5-452a881dbc18",
   "metadata": {},
   "outputs": [],
   "source": [
    "name = \"Andrea\"\n",
    "print(name)"
   ]
  },
  {
   "cell_type": "code",
   "execution_count": null,
   "id": "a6a28055-5554-4beb-9f0f-8cf1cd502c1b",
   "metadata": {
    "tags": []
   },
   "outputs": [],
   "source": [
    "# Ejercicio: crea e imprime las variables nombre = tu nombre, altura y genero.\n",
    "\n"
   ]
  },
  {
   "cell_type": "code",
   "execution_count": null,
   "id": "99896cf0-b6ac-4fd7-bb7a-4c44b6d6ace4",
   "metadata": {},
   "outputs": [],
   "source": [
    "# Se asigna una edad a la variable age y un nombre entre comillas a la variable first_name.\n",
    "\n",
    "age = 42\n",
    "first_name = \"Ahmed\"\n",
    "print(age, first_name)"
   ]
  },
  {
   "cell_type": "code",
   "execution_count": null,
   "id": "1b82f9e6-9bc2-4a66-be17-36a64c5aca8c",
   "metadata": {},
   "outputs": [],
   "source": [
    "# Los valores pasados a la función se denominan argumentos.\n",
    "# Puedes pasar a la funcion print variables de tipo numerico o de texto, strings literales y numeros.\n",
    "print(first_name, \"is\", age, \"years old\")"
   ]
  },
  {
   "cell_type": "markdown",
   "id": "2fbdb8e0-504d-4670-bfda-253e7ce6b3ba",
   "metadata": {},
   "source": [
    "### Nombres de las variables\n",
    "* Los nombres de las variables pueden ser una sola letra, una palabra o varias palabras separadas por guiones bajos, todo en minúsculas.\n",
    "* No se puede comenzar con un dígito.\n",
    "* Python distingue mayúsculas de minúsculas (age, Age y AGE son tres variables diferentes).\n",
    "* Existen convenciones para usar letras mayúsculas al comienzo de los nombres de las variables, por ahora nosotros usaremos letras minúsculas.\n",
    "* Los nombres de variables que comiencen con un guión bajo __alistairs_real_age tienen un significado especial , por lo cual no lo usaremos hasta que comprendamos la convención.\n",
    "\n",
    "* A continuación, se muestran algunos ejemplos:\n"
   ]
  },
  {
   "cell_type": "code",
   "execution_count": null,
   "id": "2197e469-5dc4-4bed-bd1b-49beaa145fbe",
   "metadata": {},
   "outputs": [],
   "source": [
    "# Las variables pueden ser usadas en cálculos.\n",
    "age = age + 3\n",
    "print(\"Age in three years:\", age)"
   ]
  },
  {
   "cell_type": "code",
   "execution_count": null,
   "id": "6bf634d9-37f4-414f-8939-9eba3d79e192",
   "metadata": {},
   "outputs": [],
   "source": [
    "# Las variables deben ser creadas antes de ser utilizadas.\n",
    "print(last_name)"
   ]
  },
  {
   "cell_type": "markdown",
   "id": "e9b5c4c3-d09b-4ef9-b696-68be55c4dbda",
   "metadata": {},
   "source": [
    "### Las variables persisten entre celdas\n",
    "\n",
    "* El orden de ejecución en las celdas es importante en un cuaderno (notebook) de Jupyter, no el orden en que aparecen. \n",
    "* Python recordará todo el código que se ejecutó anteriormente, incluidas las variables que hayas definido, independientemente del orden en el cuaderno. \n",
    "* Por lo tanto, si defines variables más abajo en el cuaderno y luego (re) ejecutas las celdas más arriba, estas definidas más abajo aún estarán presentes. tenemos dos celdas en el siguiente orden:"
   ]
  },
  {
   "cell_type": "code",
   "execution_count": null,
   "id": "3f09c137-2ce8-4b92-a19f-cddb169bd0f4",
   "metadata": {},
   "outputs": [],
   "source": [
    "print(myval)"
   ]
  },
  {
   "cell_type": "code",
   "execution_count": null,
   "id": "3c1ffed2-afe3-4cab-b555-5e305f0d7c93",
   "metadata": {},
   "outputs": [],
   "source": [
    "myval = 1"
   ]
  },
  {
   "cell_type": "markdown",
   "id": "ed85e36f-d5c6-4a03-ab4e-c8f932363342",
   "metadata": {},
   "source": [
    "Si lo ejecutas en este orden, la primera celda dará un error. Sin embargo, si ejecutas la primera celda después de la segunda celda, se mostrará 1. Para evitar confusiones, puede ser de ayuda usar la opción del Kernel -> Restart & Run All que borra el intérprete y ejecuta todo desde una pantalla limpia, yendo de arriba a abajo."
   ]
  },
  {
   "cell_type": "markdown",
   "id": "2b6f1f6e-ab24-475c-b7c8-71217dae7bf0",
   "metadata": {},
   "source": [
    "## **Tipos de datos**"
   ]
  },
  {
   "cell_type": "markdown",
   "id": "503bb003-6a48-4cae-9e9b-d562d737a2cf",
   "metadata": {},
   "source": [
    "Cada valor en un programa tiene un tipo de dato específico. Existe\n",
    "* Cadena de caracteres, llamado string, (str).\n",
    "* Entero o intergers (int).\n",
    "* Número de punto flotante (float).\n"
   ]
  },
  {
   "cell_type": "markdown",
   "id": "85affbd1-0fd5-42e1-bfc9-7b80cd4d36c3",
   "metadata": {},
   "source": [
    "## Enteros o Intergers (int)\n",
    " * Representa números enteros positivos o negativos como 3, 27, 23456 o -512.\n",
    " "
   ]
  },
  {
   "cell_type": "code",
   "execution_count": null,
   "id": "b2d8293d-107a-482a-a623-dda46da14d6a",
   "metadata": {},
   "outputs": [],
   "source": [
    "# Ejemplos\n",
    "print(12)\n",
    "print(2850)\n",
    "print(-3)"
   ]
  },
  {
   "cell_type": "code",
   "execution_count": null,
   "id": "566209aa-2e52-47b8-a5bd-add4105ac14a",
   "metadata": {},
   "outputs": [],
   "source": [
    "# Ejercicio: Crea una variable x, asigne un valor entero.\n"
   ]
  },
  {
   "cell_type": "markdown",
   "id": "dafdb5b9-eb55-48e0-82e2-4f1d4f22efd4",
   "metadata": {},
   "source": [
    "## Número de punto flotante (float)\n",
    " * Representa números reales como 3.14159 o -2.5.\n",
    " "
   ]
  },
  {
   "cell_type": "code",
   "execution_count": null,
   "id": "9347bd22-46c4-489c-ba56-a62a3eebeef4",
   "metadata": {},
   "outputs": [],
   "source": [
    "# Ejemplos\n",
    "print(3.268)\n",
    "print(-20.14)\n",
    "print(1.666666666666667)"
   ]
  },
  {
   "cell_type": "code",
   "execution_count": null,
   "id": "902a832b-d048-4c13-9edb-d8229b6c7ad8",
   "metadata": {},
   "outputs": [],
   "source": [
    "# Crea la variable precio y asigna un valor de número de punto flotante.\n"
   ]
  },
  {
   "cell_type": "markdown",
   "id": "6689971a-4245-4eaa-9dfa-107540c160c1",
   "metadata": {},
   "source": [
    "## Función de tipo\n",
    "* Podemos verificar el tipo de datos del valor que se asigna a una variable usando la función **type ()**.\n",
    "* Pero recuerda: el valor tiene el tipo y la variable es solo una etiqueta."
   ]
  },
  {
   "cell_type": "code",
   "execution_count": null,
   "id": "389569ce-f7bc-408f-8f94-ea54baa62e1d",
   "metadata": {},
   "outputs": [],
   "source": [
    "# Ejemplos\n",
    "\n",
    "dias_semana = 7\n",
    "print(type(dias_semana)) \n",
    "\n",
    "numero_pi = 3.1416\n",
    "print(type(numero_pi)) \n",
    "\n",
    "fecha_de_navidad = \"25 de diciembre\"\n",
    "print(type(fecha_de_navidad))"
   ]
  },
  {
   "cell_type": "code",
   "execution_count": null,
   "id": "74967784-0626-4a83-83ee-5b3401cb964a",
   "metadata": {},
   "outputs": [],
   "source": [
    "# ejercicio: que tipo de valor las variables inversion = ahorro; tipo_de_cambio = 0.96\n"
   ]
  },
  {
   "cell_type": "code",
   "execution_count": null,
   "id": "1e833009-bc69-4096-a814-ee99d6a88141",
   "metadata": {},
   "outputs": [],
   "source": [
    "# Puede mezclar enteros y números de punto flotantes libremente en las operaciones.\n",
    "# Python 3 convierte automáticamente los enteros en números de puntos flotantes según sea necesario.\n",
    "\n",
    "print('la mitad de 1 es', 1 / 2.0)\n",
    "print('tres al cuadrado es', 3**2)"
   ]
  },
  {
   "cell_type": "markdown",
   "id": "82397a05-993c-4666-92ec-dafe73a6abf7",
   "metadata": {},
   "source": [
    "### Las variables solo cambian de valor cuando se les asigna algo."
   ]
  },
  {
   "cell_type": "code",
   "execution_count": null,
   "id": "3472bc27-c47d-4b85-a33e-f23abae74770",
   "metadata": {},
   "outputs": [],
   "source": [
    "num1 = 2\n",
    "num2 = 3\n",
    "print(num1 + num2) # suma\n",
    "print(num1 - num2) # resta\n",
    "print(num1 * num2) # multiplicacion\n",
    "print(num1 / num2) # division"
   ]
  },
  {
   "cell_type": "code",
   "execution_count": null,
   "id": "54995188-3fdf-4b15-9dff-91f756414f32",
   "metadata": {},
   "outputs": [],
   "source": [
    "first = 1\n",
    "second = 5 * first\n",
    "\n",
    "print('first is', first, 'and second is', second)"
   ]
  },
  {
   "cell_type": "markdown",
   "id": "0141e07e-7290-461e-8b95-463a015caf02",
   "metadata": {},
   "source": [
    "Los números enteros y de numeros punto  flotante no pueden concatenarse, sin primero convertirse en una cadena.\n",
    "\n",
    "Para convertir un número entero o flotante en una cadena, podemos usar la función str()."
   ]
  },
  {
   "cell_type": "code",
   "execution_count": null,
   "id": "237ead08-e32d-453c-9724-67a232592341",
   "metadata": {
    "tags": []
   },
   "outputs": [],
   "source": [
    "# Cree una variable llamada \"arroz\", o su comida favorita, y asígnele un valor entero.\n",
    "# Luego imprima una oración breve usando la concatenación y la función str () para imprimir el valor de la variable.\n",
    "arroz = 2\n",
    "print (\"Me gustaría \" + str(arroz) + \" pedido(s) de arroz, por favor.\")\n",
    "\n",
    "# Sugerencia: tenga en cuenta el espacio después de \"me gusta\" y antes de \"pedido (s)\"."
   ]
  },
  {
   "cell_type": "code",
   "execution_count": null,
   "id": "0282114e-f670-4f29-8018-3d653bcfe5c5",
   "metadata": {},
   "outputs": [],
   "source": [
    "print (\"Me gustaría \" + \"2\" + \" pedido(s) de arroz, por favor.\")"
   ]
  },
  {
   "cell_type": "markdown",
   "id": "efcd1c11-ecdd-4d93-ba91-079c69a309e4",
   "metadata": {},
   "source": [
    "### Puntos clave"
   ]
  },
  {
   "cell_type": "markdown",
   "id": "d047da79-f2eb-45b1-a3c2-ce48f55079d5",
   "metadata": {},
   "source": [
    "#### Variables y Asignación \n",
    "* Usa print para mostrar los valores.\n",
    "* Usa variables para guardar valores.\n",
    "* El orden de ejecución en las celdas es importante en un notebok.\n",
    "* Las variables deben ser creadas antes de ser utilizadas.\n",
    "* Las variables pueden ser usadas en cálculos.\n",
    "* Usa un índice para obtener un solo carácter de una secuencia de caracteres.\n",
    "* Usa un corte para obtener una parte de una secuencia de caracteres.\n",
    "* Usa la función incorporada len para encontrar la longitud de una secuencia de caracteres.\n",
    "* Python distingue mayúsculas de minúsculas.\n",
    "*  Recomendación: Usa nombres de variables significativos"
   ]
  },
  {
   "cell_type": "markdown",
   "id": "0cdfaf74-1685-4887-a277-ac5e44387f37",
   "metadata": {},
   "source": [
    "#### Tipos de Datos y Conversión de Tipos\n",
    "* Cada valor tiene un tipo.\n",
    "* Use la función type para encontrar el tipo de un valor.\n",
    "* Los tipos controlan qué operaciones se pueden hacer con los valores.\n",
    "* A las secuencias de caracteres se les pueden agregar y multiplicar.\n",
    "* Las secuencias de caracteres tienen una longitud (pero los números no).\n",
    "* Se deben convertir números a secuencias de caracteres o viceversa cuando se opera con ellas.\n",
    "* Se pueden mezclar enteros y puntos flotantes libremente en operaciones.\n",
    "* Las variables solo cambian de valor cuando se les asigna algo."
   ]
  },
  {
   "cell_type": "code",
   "execution_count": null,
   "id": "0eeeeb7c-12ba-417c-b603-5a74b603e0b9",
   "metadata": {},
   "outputs": [],
   "source": []
  }
 ],
 "metadata": {
  "kernelspec": {
   "display_name": "Python 3 (ipykernel)",
   "language": "python",
   "name": "python3"
  },
  "language_info": {
   "codemirror_mode": {
    "name": "ipython",
    "version": 3
   },
   "file_extension": ".py",
   "mimetype": "text/x-python",
   "name": "python",
   "nbconvert_exporter": "python",
   "pygments_lexer": "ipython3",
   "version": "3.8.10"
  }
 },
 "nbformat": 4,
 "nbformat_minor": 5
}
